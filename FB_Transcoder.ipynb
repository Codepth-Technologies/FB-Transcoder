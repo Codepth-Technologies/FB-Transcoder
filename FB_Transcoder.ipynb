{
  "nbformat": 4,
  "nbformat_minor": 0,
  "metadata": {
    "colab": {
      "name": "FB Transcoder.ipynb",
      "provenance": []
    },
    "kernelspec": {
      "name": "python3",
      "display_name": "Python 3"
    },
    "accelerator": "GPU"
  },
  "cells": [
    {
      "cell_type": "markdown",
      "metadata": {
        "id": "-0UUkVM2lmY8",
        "colab_type": "text"
      },
      "source": [
        "# FB Research Transcoder\n",
        "\n",
        "Links \n",
        "*  [Paper](https://arxiv.org/pdf/2006.03511.pdf)\n",
        "*  [Repository](https://github.com/facebookresearch/TransCoder)"
      ]
    },
    {
      "cell_type": "markdown",
      "metadata": {
        "id": "UqGdjV0LnCIR",
        "colab_type": "text"
      },
      "source": [
        "# Installing and Integrating Neccessary Packages and Directories"
      ]
    },
    {
      "cell_type": "code",
      "metadata": {
        "id": "4hrC_lGXlZ8y",
        "colab_type": "code",
        "colab": {}
      },
      "source": [
        "import os"
      ],
      "execution_count": null,
      "outputs": []
    },
    {
      "cell_type": "code",
      "metadata": {
        "id": "cIKAeSOmmENM",
        "colab_type": "code",
        "colab": {
          "base_uri": "https://localhost:8080/",
          "height": 0
        },
        "outputId": "7b8b5637-6e3d-4f46-dd8e-c35f900235cb"
      },
      "source": [
        "!pip install six\n",
        "!pip install sacrebleu==\"1.2.11\""
      ],
      "execution_count": 2,
      "outputs": [
        {
          "output_type": "stream",
          "text": [
            "Requirement already satisfied: six in /usr/local/lib/python3.6/dist-packages (1.15.0)\n",
            "Collecting sacrebleu==1.2.11\n",
            "  Downloading https://files.pythonhosted.org/packages/0d/fb/ad7d721fbeeba9e2fe459f489f38a792ca1e5f5b61f09e608f22f400ca66/sacrebleu-1.2.11.tar.gz\n",
            "Collecting typing\n",
            "\u001b[?25l  Downloading https://files.pythonhosted.org/packages/05/d9/6eebe19d46bd05360c9a9aae822e67a80f9242aabbfc58b641b957546607/typing-3.7.4.3.tar.gz (78kB)\n",
            "\u001b[K     |████████████████████████████████| 81kB 4.2MB/s \n",
            "\u001b[?25hBuilding wheels for collected packages: sacrebleu, typing\n",
            "  Building wheel for sacrebleu (setup.py) ... \u001b[?25l\u001b[?25hdone\n",
            "  Created wheel for sacrebleu: filename=sacrebleu-1.2.11-cp36-none-any.whl size=18641 sha256=737bacc950130cd7e0d6213952463c0239dfcb614341681b344f14c26159f627\n",
            "  Stored in directory: /root/.cache/pip/wheels/93/0f/06/e1c5dcbca58e907c17b59be8e1f10ae4e43bb1fb68197a8d7c\n",
            "  Building wheel for typing (setup.py) ... \u001b[?25l\u001b[?25hdone\n",
            "  Created wheel for typing: filename=typing-3.7.4.3-cp36-none-any.whl size=26309 sha256=dc05c53ac9de1845e0ba3e479bbbaf07d8480a51aa3b5fa7da1723455b879097\n",
            "  Stored in directory: /root/.cache/pip/wheels/2d/04/41/8e1836e79581989c22eebac3f4e70aaac9af07b0908da173be\n",
            "Successfully built sacrebleu typing\n",
            "Installing collected packages: typing, sacrebleu\n",
            "Successfully installed sacrebleu-1.2.11 typing-3.7.4.3\n"
          ],
          "name": "stdout"
        },
        {
          "output_type": "display_data",
          "data": {
            "application/vnd.colab-display-data+json": {
              "pip_warning": {
                "packages": [
                  "typing"
                ]
              }
            }
          },
          "metadata": {
            "tags": []
          }
        }
      ]
    },
    {
      "cell_type": "code",
      "metadata": {
        "id": "wJC7UnWXmGl0",
        "colab_type": "code",
        "colab": {
          "base_uri": "https://localhost:8080/",
          "height": 0
        },
        "outputId": "92c34770-2a02-4b6b-a14f-004ec7987404"
      },
      "source": [
        "!pip install submitit\n",
        "!pip install clang"
      ],
      "execution_count": 2,
      "outputs": [
        {
          "output_type": "stream",
          "text": [
            "Collecting submitit\n",
            "\u001b[?25l  Downloading https://files.pythonhosted.org/packages/68/b9/43ea5d1933fd448c000fa79c8ff747e46a0a245ac5c9a45c0d3cd2c545bc/submitit-1.0.0-py3-none-any.whl (58kB)\n",
            "\r\u001b[K     |█████▋                          | 10kB 21.7MB/s eta 0:00:01\r\u001b[K     |███████████▏                    | 20kB 4.1MB/s eta 0:00:01\r\u001b[K     |████████████████▉               | 30kB 5.1MB/s eta 0:00:01\r\u001b[K     |██████████████████████▍         | 40kB 5.6MB/s eta 0:00:01\r\u001b[K     |████████████████████████████    | 51kB 4.8MB/s eta 0:00:01\r\u001b[K     |████████████████████████████████| 61kB 3.6MB/s \n",
            "\u001b[?25hRequirement already satisfied: cloudpickle>=1.2.1 in /usr/local/lib/python3.6/dist-packages (from submitit) (1.3.0)\n",
            "Requirement already satisfied: typing-extensions>=3.7.4.2 in /usr/local/lib/python3.6/dist-packages (from submitit) (3.7.4.2)\n",
            "Installing collected packages: submitit\n",
            "Successfully installed submitit-1.0.0\n",
            "Collecting clang\n",
            "  Downloading https://files.pythonhosted.org/packages/b8/5e/25e882fa2b1f27c44a831331929d1d0d054db0a86fa2991d336f84c50d6c/clang-11.0-py3-none-any.whl\n",
            "Installing collected packages: clang\n",
            "Successfully installed clang-11.0\n"
          ],
          "name": "stdout"
        }
      ]
    },
    {
      "cell_type": "code",
      "metadata": {
        "id": "372gwt5pmYU2",
        "colab_type": "code",
        "colab": {}
      },
      "source": [
        "# !sudo pip install clang\n",
        "! cd /usr/lib/x86_64-linux-gnu/\n",
        "! sudo ln -s libclang-6.0.so.1 libclang.so\n",
        "# ! cp libclang-6.0.so.1 libclang.so"
      ],
      "execution_count": 3,
      "outputs": []
    },
    {
      "cell_type": "code",
      "metadata": {
        "id": "0BeV4iMRmcJZ",
        "colab_type": "code",
        "colab": {
          "base_uri": "https://localhost:8080/",
          "height": 0
        },
        "outputId": "cb9639bd-55b4-4b0f-ac3b-d0a9b8f63d7a"
      },
      "source": [
        "!git clone https://github.com/glample/fastBPE"
      ],
      "execution_count": 4,
      "outputs": [
        {
          "output_type": "stream",
          "text": [
            "Cloning into 'fastBPE'...\n",
            "remote: Enumerating objects: 5, done.\u001b[K\n",
            "remote: Counting objects:  20% (1/5)\u001b[K\rremote: Counting objects:  40% (2/5)\u001b[K\rremote: Counting objects:  60% (3/5)\u001b[K\rremote: Counting objects:  80% (4/5)\u001b[K\rremote: Counting objects: 100% (5/5)\u001b[K\rremote: Counting objects: 100% (5/5), done.\u001b[K\n",
            "remote: Compressing objects:  20% (1/5)\u001b[K\rremote: Compressing objects:  40% (2/5)\u001b[K\rremote: Compressing objects:  60% (3/5)\u001b[K\rremote: Compressing objects:  80% (4/5)\u001b[K\rremote: Compressing objects: 100% (5/5)\u001b[K\rremote: Compressing objects: 100% (5/5), done.\u001b[K\n",
            "remote: Total 59 (delta 0), reused 2 (delta 0), pack-reused 54\n",
            "Unpacking objects:   1% (1/59)   \rUnpacking objects:   3% (2/59)   \rUnpacking objects:   5% (3/59)   \rUnpacking objects:   6% (4/59)   \rUnpacking objects:   8% (5/59)   \rUnpacking objects:  10% (6/59)   \rUnpacking objects:  11% (7/59)   \rUnpacking objects:  13% (8/59)   \rUnpacking objects:  15% (9/59)   \rUnpacking objects:  16% (10/59)   \rUnpacking objects:  18% (11/59)   \rUnpacking objects:  20% (12/59)   \rUnpacking objects:  22% (13/59)   \rUnpacking objects:  23% (14/59)   \rUnpacking objects:  25% (15/59)   \rUnpacking objects:  27% (16/59)   \rUnpacking objects:  28% (17/59)   \rUnpacking objects:  30% (18/59)   \rUnpacking objects:  32% (19/59)   \rUnpacking objects:  33% (20/59)   \rUnpacking objects:  35% (21/59)   \rUnpacking objects:  37% (22/59)   \rUnpacking objects:  38% (23/59)   \rUnpacking objects:  40% (24/59)   \rUnpacking objects:  42% (25/59)   \rUnpacking objects:  44% (26/59)   \rUnpacking objects:  45% (27/59)   \rUnpacking objects:  47% (28/59)   \rUnpacking objects:  49% (29/59)   \rUnpacking objects:  50% (30/59)   \rUnpacking objects:  52% (31/59)   \rUnpacking objects:  54% (32/59)   \rUnpacking objects:  55% (33/59)   \rUnpacking objects:  57% (34/59)   \rUnpacking objects:  59% (35/59)   \rUnpacking objects:  61% (36/59)   \rUnpacking objects:  62% (37/59)   \rUnpacking objects:  64% (38/59)   \rUnpacking objects:  66% (39/59)   \rUnpacking objects:  67% (40/59)   \rUnpacking objects:  69% (41/59)   \rUnpacking objects:  71% (42/59)   \rUnpacking objects:  72% (43/59)   \rUnpacking objects:  74% (44/59)   \rUnpacking objects:  76% (45/59)   \rUnpacking objects:  77% (46/59)   \rUnpacking objects:  79% (47/59)   \rUnpacking objects:  81% (48/59)   \rUnpacking objects:  83% (49/59)   \rUnpacking objects:  84% (50/59)   \rUnpacking objects:  86% (51/59)   \rUnpacking objects:  88% (52/59)   \rUnpacking objects:  89% (53/59)   \rUnpacking objects:  91% (54/59)   \rUnpacking objects:  93% (55/59)   \rUnpacking objects:  94% (56/59)   \rUnpacking objects:  96% (57/59)   \rUnpacking objects:  98% (58/59)   \rUnpacking objects: 100% (59/59)   \rUnpacking objects: 100% (59/59), done.\n"
          ],
          "name": "stdout"
        }
      ]
    },
    {
      "cell_type": "code",
      "metadata": {
        "id": "pHaYYnnamfBC",
        "colab_type": "code",
        "colab": {}
      },
      "source": [
        "os.chdir(\"fastBPE\")"
      ],
      "execution_count": 5,
      "outputs": []
    },
    {
      "cell_type": "code",
      "metadata": {
        "id": "mGuDAar7mjPP",
        "colab_type": "code",
        "colab": {
          "base_uri": "https://localhost:8080/",
          "height": 0
        },
        "outputId": "2188d517-d922-4061-ce52-7fe757882050"
      },
      "source": [
        "!python setup.py install"
      ],
      "execution_count": 6,
      "outputs": [
        {
          "output_type": "stream",
          "text": [
            "Compiling fastBPE/fastBPE.pyx because it changed.\n",
            "[1/1] Cythonizing fastBPE/fastBPE.pyx\n",
            "running install\n",
            "running bdist_egg\n",
            "running egg_info\n",
            "creating fastBPE.egg-info\n",
            "writing fastBPE.egg-info/PKG-INFO\n",
            "writing dependency_links to fastBPE.egg-info/dependency_links.txt\n",
            "writing top-level names to fastBPE.egg-info/top_level.txt\n",
            "writing manifest file 'fastBPE.egg-info/SOURCES.txt'\n",
            "package init file 'fastBPE/__init__.py' not found (or not a regular file)\n",
            "reading manifest template 'MANIFEST.in'\n",
            "writing manifest file 'fastBPE.egg-info/SOURCES.txt'\n",
            "installing library code to build/bdist.linux-x86_64/egg\n",
            "running install_lib\n",
            "running build_py\n",
            "running build_ext\n",
            "building 'fastBPE' extension\n",
            "creating build\n",
            "creating build/temp.linux-x86_64-3.6\n",
            "creating build/temp.linux-x86_64-3.6/fastBPE\n",
            "x86_64-linux-gnu-gcc -pthread -DNDEBUG -g -fwrapv -O2 -Wall -g -fstack-protector-strong -Wformat -Werror=format-security -Wdate-time -D_FORTIFY_SOURCE=2 -fPIC -IfastBPE -I/usr/include/python3.6m -c fastBPE/fastBPE.cpp -o build/temp.linux-x86_64-3.6/fastBPE/fastBPE.o -std=c++11 -Ofast -pthread\n",
            "creating build/lib.linux-x86_64-3.6\n",
            "x86_64-linux-gnu-g++ -pthread -shared -Wl,-O1 -Wl,-Bsymbolic-functions -Wl,-Bsymbolic-functions -Wl,-z,relro -Wl,-Bsymbolic-functions -Wl,-z,relro -g -fstack-protector-strong -Wformat -Werror=format-security -Wdate-time -D_FORTIFY_SOURCE=2 build/temp.linux-x86_64-3.6/fastBPE/fastBPE.o -o build/lib.linux-x86_64-3.6/fastBPE.cpython-36m-x86_64-linux-gnu.so\n",
            "creating build/bdist.linux-x86_64\n",
            "creating build/bdist.linux-x86_64/egg\n",
            "copying build/lib.linux-x86_64-3.6/fastBPE.cpython-36m-x86_64-linux-gnu.so -> build/bdist.linux-x86_64/egg\n",
            "creating stub loader for fastBPE.cpython-36m-x86_64-linux-gnu.so\n",
            "byte-compiling build/bdist.linux-x86_64/egg/fastBPE.py to fastBPE.cpython-36.pyc\n",
            "creating build/bdist.linux-x86_64/egg/EGG-INFO\n",
            "copying fastBPE.egg-info/PKG-INFO -> build/bdist.linux-x86_64/egg/EGG-INFO\n",
            "copying fastBPE.egg-info/SOURCES.txt -> build/bdist.linux-x86_64/egg/EGG-INFO\n",
            "copying fastBPE.egg-info/dependency_links.txt -> build/bdist.linux-x86_64/egg/EGG-INFO\n",
            "copying fastBPE.egg-info/top_level.txt -> build/bdist.linux-x86_64/egg/EGG-INFO\n",
            "writing build/bdist.linux-x86_64/egg/EGG-INFO/native_libs.txt\n",
            "zip_safe flag not set; analyzing archive contents...\n",
            "__pycache__.fastBPE.cpython-36: module references __file__\n",
            "creating dist\n",
            "creating 'dist/fastBPE-0.1.1-py3.6-linux-x86_64.egg' and adding 'build/bdist.linux-x86_64/egg' to it\n",
            "removing 'build/bdist.linux-x86_64/egg' (and everything under it)\n",
            "Processing fastBPE-0.1.1-py3.6-linux-x86_64.egg\n",
            "creating /usr/local/lib/python3.6/dist-packages/fastBPE-0.1.1-py3.6-linux-x86_64.egg\n",
            "Extracting fastBPE-0.1.1-py3.6-linux-x86_64.egg to /usr/local/lib/python3.6/dist-packages\n",
            "Adding fastBPE 0.1.1 to easy-install.pth file\n",
            "\n",
            "Installed /usr/local/lib/python3.6/dist-packages/fastBPE-0.1.1-py3.6-linux-x86_64.egg\n",
            "Processing dependencies for fastBPE==0.1.1\n",
            "Finished processing dependencies for fastBPE==0.1.1\n"
          ],
          "name": "stdout"
        }
      ]
    },
    {
      "cell_type": "code",
      "metadata": {
        "id": "I3Vi4xlHmm8K",
        "colab_type": "code",
        "colab": {}
      },
      "source": [
        "os.chdir(\"..\")"
      ],
      "execution_count": 7,
      "outputs": []
    },
    {
      "cell_type": "code",
      "metadata": {
        "id": "uk9uzogvmotj",
        "colab_type": "code",
        "colab": {
          "base_uri": "https://localhost:8080/",
          "height": 0
        },
        "outputId": "714f5490-b1c8-4e78-a7ce-69dc2c73804d"
      },
      "source": [
        "! git clone https://github.com/NVIDIA/apex"
      ],
      "execution_count": 8,
      "outputs": [
        {
          "output_type": "stream",
          "text": [
            "Cloning into 'apex'...\n",
            "remote: Enumerating objects: 7431, done.\u001b[K\n",
            "remote: Total 7431 (delta 0), reused 0 (delta 0), pack-reused 7431\u001b[K\n",
            "Receiving objects: 100% (7431/7431), 13.90 MiB | 29.23 MiB/s, done.\n",
            "Resolving deltas: 100% (5024/5024), done.\n"
          ],
          "name": "stdout"
        }
      ]
    },
    {
      "cell_type": "code",
      "metadata": {
        "id": "D0O3Ig2dmq-V",
        "colab_type": "code",
        "colab": {
          "base_uri": "https://localhost:8080/",
          "height": 0
        },
        "outputId": "81e65aac-c6b8-4846-cf01-948ded6a46b0"
      },
      "source": [
        "os.chdir(\"apex\")\n",
        "!pip install -v --no-cache-dir ./"
      ],
      "execution_count": 9,
      "outputs": [
        {
          "output_type": "stream",
          "text": [
            "Created temporary directory: /tmp/pip-ephem-wheel-cache-blaos7j8\n",
            "Created temporary directory: /tmp/pip-req-tracker-2751nuu0\n",
            "Created requirements tracker '/tmp/pip-req-tracker-2751nuu0'\n",
            "Created temporary directory: /tmp/pip-install-54jdksyo\n",
            "Processing /content/apex\n",
            "  Created temporary directory: /tmp/pip-req-build-m6w8u4gp\n",
            "  Added file:///content/apex to build tracker '/tmp/pip-req-tracker-2751nuu0'\n",
            "    Running setup.py (path:/tmp/pip-req-build-m6w8u4gp/setup.py) egg_info for package from file:///content/apex\n",
            "    Running command python setup.py egg_info\n",
            "\n",
            "\n",
            "    torch.__version__  = 1.6.0+cu101\n",
            "\n",
            "\n",
            "    running egg_info\n",
            "    creating /tmp/pip-req-build-m6w8u4gp/pip-egg-info/apex.egg-info\n",
            "    writing /tmp/pip-req-build-m6w8u4gp/pip-egg-info/apex.egg-info/PKG-INFO\n",
            "    writing dependency_links to /tmp/pip-req-build-m6w8u4gp/pip-egg-info/apex.egg-info/dependency_links.txt\n",
            "    writing top-level names to /tmp/pip-req-build-m6w8u4gp/pip-egg-info/apex.egg-info/top_level.txt\n",
            "    writing manifest file '/tmp/pip-req-build-m6w8u4gp/pip-egg-info/apex.egg-info/SOURCES.txt'\n",
            "    writing manifest file '/tmp/pip-req-build-m6w8u4gp/pip-egg-info/apex.egg-info/SOURCES.txt'\n",
            "    /tmp/pip-req-build-m6w8u4gp/setup.py:67: UserWarning: Option --pyprof not specified. Not installing PyProf dependencies!\n",
            "      warnings.warn(\"Option --pyprof not specified. Not installing PyProf dependencies!\")\n",
            "  Source in /tmp/pip-req-build-m6w8u4gp has version 0.1, which satisfies requirement apex==0.1 from file:///content/apex\n",
            "  Removed apex==0.1 from file:///content/apex from build tracker '/tmp/pip-req-tracker-2751nuu0'\n",
            "Building wheels for collected packages: apex\n",
            "  Created temporary directory: /tmp/pip-wheel-09xri0pl\n",
            "  Building wheel for apex (setup.py) ... \u001b[?25l  Destination directory: /tmp/pip-wheel-09xri0pl\n",
            "  Running command /usr/bin/python3 -u -c 'import sys, setuptools, tokenize; sys.argv[0] = '\"'\"'/tmp/pip-req-build-m6w8u4gp/setup.py'\"'\"'; __file__='\"'\"'/tmp/pip-req-build-m6w8u4gp/setup.py'\"'\"';f=getattr(tokenize, '\"'\"'open'\"'\"', open)(__file__);code=f.read().replace('\"'\"'\\r\\n'\"'\"', '\"'\"'\\n'\"'\"');f.close();exec(compile(code, __file__, '\"'\"'exec'\"'\"'))' bdist_wheel -d /tmp/pip-wheel-09xri0pl --python-tag cp36\n",
            "\n",
            "\n",
            "  torch.__version__  = 1.6.0+cu101\n",
            "\n",
            "\n",
            "  /tmp/pip-req-build-m6w8u4gp/setup.py:67: UserWarning: Option --pyprof not specified. Not installing PyProf dependencies!\n",
            "    warnings.warn(\"Option --pyprof not specified. Not installing PyProf dependencies!\")\n",
            "  running bdist_wheel\n",
            "  running build\n",
            "  running build_py\n",
            "  creating build\n",
            "  creating build/lib\n",
            "  creating build/lib/apex\n",
            "  copying apex/__init__.py -> build/lib/apex\n",
            "  creating build/lib/apex/mlp\n",
            "  copying apex/mlp/mlp.py -> build/lib/apex/mlp\n",
            "  copying apex/mlp/__init__.py -> build/lib/apex/mlp\n",
            "  creating build/lib/apex/parallel\n",
            "  copying apex/parallel/__init__.py -> build/lib/apex/parallel\n",
            "  copying apex/parallel/sync_batchnorm_kernel.py -> build/lib/apex/parallel\n",
            "  copying apex/parallel/optimized_sync_batchnorm_kernel.py -> build/lib/apex/parallel\n",
            "  copying apex/parallel/multiproc.py -> build/lib/apex/parallel\n",
            "  copying apex/parallel/distributed.py -> build/lib/apex/parallel\n",
            "  copying apex/parallel/optimized_sync_batchnorm.py -> build/lib/apex/parallel\n",
            "  copying apex/parallel/sync_batchnorm.py -> build/lib/apex/parallel\n",
            "  copying apex/parallel/LARC.py -> build/lib/apex/parallel\n",
            "  creating build/lib/apex/RNN\n",
            "  copying apex/RNN/cells.py -> build/lib/apex/RNN\n",
            "  copying apex/RNN/__init__.py -> build/lib/apex/RNN\n",
            "  copying apex/RNN/RNNBackend.py -> build/lib/apex/RNN\n",
            "  copying apex/RNN/models.py -> build/lib/apex/RNN\n",
            "  creating build/lib/apex/normalization\n",
            "  copying apex/normalization/__init__.py -> build/lib/apex/normalization\n",
            "  copying apex/normalization/fused_layer_norm.py -> build/lib/apex/normalization\n",
            "  creating build/lib/apex/reparameterization\n",
            "  copying apex/reparameterization/__init__.py -> build/lib/apex/reparameterization\n",
            "  copying apex/reparameterization/weight_norm.py -> build/lib/apex/reparameterization\n",
            "  copying apex/reparameterization/reparameterization.py -> build/lib/apex/reparameterization\n",
            "  creating build/lib/apex/multi_tensor_apply\n",
            "  copying apex/multi_tensor_apply/__init__.py -> build/lib/apex/multi_tensor_apply\n",
            "  copying apex/multi_tensor_apply/multi_tensor_apply.py -> build/lib/apex/multi_tensor_apply\n",
            "  creating build/lib/apex/pyprof\n",
            "  copying apex/pyprof/__init__.py -> build/lib/apex/pyprof\n",
            "  creating build/lib/apex/contrib\n",
            "  copying apex/contrib/__init__.py -> build/lib/apex/contrib\n",
            "  creating build/lib/apex/fp16_utils\n",
            "  copying apex/fp16_utils/__init__.py -> build/lib/apex/fp16_utils\n",
            "  copying apex/fp16_utils/fp16util.py -> build/lib/apex/fp16_utils\n",
            "  copying apex/fp16_utils/fp16_optimizer.py -> build/lib/apex/fp16_utils\n",
            "  copying apex/fp16_utils/loss_scaler.py -> build/lib/apex/fp16_utils\n",
            "  creating build/lib/apex/optimizers\n",
            "  copying apex/optimizers/__init__.py -> build/lib/apex/optimizers\n",
            "  copying apex/optimizers/fused_adagrad.py -> build/lib/apex/optimizers\n",
            "  copying apex/optimizers/fused_lamb.py -> build/lib/apex/optimizers\n",
            "  copying apex/optimizers/fused_adam.py -> build/lib/apex/optimizers\n",
            "  copying apex/optimizers/fused_sgd.py -> build/lib/apex/optimizers\n",
            "  copying apex/optimizers/fused_novograd.py -> build/lib/apex/optimizers\n",
            "  creating build/lib/apex/amp\n",
            "  copying apex/amp/__init__.py -> build/lib/apex/amp\n",
            "  copying apex/amp/_initialize.py -> build/lib/apex/amp\n",
            "  copying apex/amp/rnn_compat.py -> build/lib/apex/amp\n",
            "  copying apex/amp/utils.py -> build/lib/apex/amp\n",
            "  copying apex/amp/opt.py -> build/lib/apex/amp\n",
            "  copying apex/amp/handle.py -> build/lib/apex/amp\n",
            "  copying apex/amp/wrap.py -> build/lib/apex/amp\n",
            "  copying apex/amp/compat.py -> build/lib/apex/amp\n",
            "  copying apex/amp/amp.py -> build/lib/apex/amp\n",
            "  copying apex/amp/frontend.py -> build/lib/apex/amp\n",
            "  copying apex/amp/_amp_state.py -> build/lib/apex/amp\n",
            "  copying apex/amp/_process_optimizer.py -> build/lib/apex/amp\n",
            "  copying apex/amp/__version__.py -> build/lib/apex/amp\n",
            "  copying apex/amp/scaler.py -> build/lib/apex/amp\n",
            "  creating build/lib/apex/pyprof/parse\n",
            "  copying apex/pyprof/parse/__init__.py -> build/lib/apex/pyprof/parse\n",
            "  copying apex/pyprof/parse/parse.py -> build/lib/apex/pyprof/parse\n",
            "  copying apex/pyprof/parse/nvvp.py -> build/lib/apex/pyprof/parse\n",
            "  copying apex/pyprof/parse/__main__.py -> build/lib/apex/pyprof/parse\n",
            "  copying apex/pyprof/parse/kernel.py -> build/lib/apex/pyprof/parse\n",
            "  copying apex/pyprof/parse/db.py -> build/lib/apex/pyprof/parse\n",
            "  creating build/lib/apex/pyprof/prof\n",
            "  copying apex/pyprof/prof/prof.py -> build/lib/apex/pyprof/prof\n",
            "  copying apex/pyprof/prof/convert.py -> build/lib/apex/pyprof/prof\n",
            "  copying apex/pyprof/prof/__init__.py -> build/lib/apex/pyprof/prof\n",
            "  copying apex/pyprof/prof/misc.py -> build/lib/apex/pyprof/prof\n",
            "  copying apex/pyprof/prof/base.py -> build/lib/apex/pyprof/prof\n",
            "  copying apex/pyprof/prof/embedding.py -> build/lib/apex/pyprof/prof\n",
            "  copying apex/pyprof/prof/softmax.py -> build/lib/apex/pyprof/prof\n",
            "  copying apex/pyprof/prof/linear.py -> build/lib/apex/pyprof/prof\n",
            "  copying apex/pyprof/prof/dropout.py -> build/lib/apex/pyprof/prof\n",
            "  copying apex/pyprof/prof/recurrentCell.py -> build/lib/apex/pyprof/prof\n",
            "  copying apex/pyprof/prof/conv.py -> build/lib/apex/pyprof/prof\n",
            "  copying apex/pyprof/prof/output.py -> build/lib/apex/pyprof/prof\n",
            "  copying apex/pyprof/prof/pooling.py -> build/lib/apex/pyprof/prof\n",
            "  copying apex/pyprof/prof/loss.py -> build/lib/apex/pyprof/prof\n",
            "  copying apex/pyprof/prof/blas.py -> build/lib/apex/pyprof/prof\n",
            "  copying apex/pyprof/prof/reduction.py -> build/lib/apex/pyprof/prof\n",
            "  copying apex/pyprof/prof/index_slice_join_mutate.py -> build/lib/apex/pyprof/prof\n",
            "  copying apex/pyprof/prof/__main__.py -> build/lib/apex/pyprof/prof\n",
            "  copying apex/pyprof/prof/data.py -> build/lib/apex/pyprof/prof\n",
            "  copying apex/pyprof/prof/activation.py -> build/lib/apex/pyprof/prof\n",
            "  copying apex/pyprof/prof/optim.py -> build/lib/apex/pyprof/prof\n",
            "  copying apex/pyprof/prof/utility.py -> build/lib/apex/pyprof/prof\n",
            "  copying apex/pyprof/prof/randomSample.py -> build/lib/apex/pyprof/prof\n",
            "  copying apex/pyprof/prof/normalization.py -> build/lib/apex/pyprof/prof\n",
            "  copying apex/pyprof/prof/pointwise.py -> build/lib/apex/pyprof/prof\n",
            "  copying apex/pyprof/prof/usage.py -> build/lib/apex/pyprof/prof\n",
            "  creating build/lib/apex/pyprof/nvtx\n",
            "  copying apex/pyprof/nvtx/__init__.py -> build/lib/apex/pyprof/nvtx\n",
            "  copying apex/pyprof/nvtx/nvmarker.py -> build/lib/apex/pyprof/nvtx\n",
            "  creating build/lib/apex/contrib/groupbn\n",
            "  copying apex/contrib/groupbn/__init__.py -> build/lib/apex/contrib/groupbn\n",
            "  copying apex/contrib/groupbn/batch_norm.py -> build/lib/apex/contrib/groupbn\n",
            "  creating build/lib/apex/contrib/xentropy\n",
            "  copying apex/contrib/xentropy/__init__.py -> build/lib/apex/contrib/xentropy\n",
            "  copying apex/contrib/xentropy/softmax_xentropy.py -> build/lib/apex/contrib/xentropy\n",
            "  creating build/lib/apex/contrib/multihead_attn\n",
            "  copying apex/contrib/multihead_attn/fast_self_multihead_attn_norm_add_func.py -> build/lib/apex/contrib/multihead_attn\n",
            "  copying apex/contrib/multihead_attn/__init__.py -> build/lib/apex/contrib/multihead_attn\n",
            "  copying apex/contrib/multihead_attn/fast_encdec_multihead_attn_norm_add_func.py -> build/lib/apex/contrib/multihead_attn\n",
            "  copying apex/contrib/multihead_attn/encdec_multihead_attn_func.py -> build/lib/apex/contrib/multihead_attn\n",
            "  copying apex/contrib/multihead_attn/fast_encdec_multihead_attn_func.py -> build/lib/apex/contrib/multihead_attn\n",
            "  copying apex/contrib/multihead_attn/fast_self_multihead_attn_func.py -> build/lib/apex/contrib/multihead_attn\n",
            "  copying apex/contrib/multihead_attn/encdec_multihead_attn.py -> build/lib/apex/contrib/multihead_attn\n",
            "  copying apex/contrib/multihead_attn/mask_softmax_dropout_func.py -> build/lib/apex/contrib/multihead_attn\n",
            "  copying apex/contrib/multihead_attn/self_multihead_attn_func.py -> build/lib/apex/contrib/multihead_attn\n",
            "  copying apex/contrib/multihead_attn/self_multihead_attn.py -> build/lib/apex/contrib/multihead_attn\n",
            "  creating build/lib/apex/contrib/sparsity\n",
            "  copying apex/contrib/sparsity/__init__.py -> build/lib/apex/contrib/sparsity\n",
            "  copying apex/contrib/sparsity/sparse_masklib.py -> build/lib/apex/contrib/sparsity\n",
            "  copying apex/contrib/sparsity/asp.py -> build/lib/apex/contrib/sparsity\n",
            "  creating build/lib/apex/contrib/optimizers\n",
            "  copying apex/contrib/optimizers/__init__.py -> build/lib/apex/contrib/optimizers\n",
            "  copying apex/contrib/optimizers/distributed_fused_adam.py -> build/lib/apex/contrib/optimizers\n",
            "  copying apex/contrib/optimizers/distributed_fused_lamb.py -> build/lib/apex/contrib/optimizers\n",
            "  copying apex/contrib/optimizers/fused_lamb.py -> build/lib/apex/contrib/optimizers\n",
            "  copying apex/contrib/optimizers/fp16_optimizer.py -> build/lib/apex/contrib/optimizers\n",
            "  copying apex/contrib/optimizers/fused_adam.py -> build/lib/apex/contrib/optimizers\n",
            "  copying apex/contrib/optimizers/distributed_fused_adam_v3.py -> build/lib/apex/contrib/optimizers\n",
            "  copying apex/contrib/optimizers/fused_sgd.py -> build/lib/apex/contrib/optimizers\n",
            "  copying apex/contrib/optimizers/distributed_fused_adam_v2.py -> build/lib/apex/contrib/optimizers\n",
            "  creating build/lib/apex/amp/lists\n",
            "  copying apex/amp/lists/__init__.py -> build/lib/apex/amp/lists\n",
            "  copying apex/amp/lists/tensor_overrides.py -> build/lib/apex/amp/lists\n",
            "  copying apex/amp/lists/torch_overrides.py -> build/lib/apex/amp/lists\n",
            "  copying apex/amp/lists/functional_overrides.py -> build/lib/apex/amp/lists\n",
            "  installing to build/bdist.linux-x86_64/wheel\n",
            "  running install\n",
            "  running install_lib\n",
            "  creating build/bdist.linux-x86_64\n",
            "  creating build/bdist.linux-x86_64/wheel\n",
            "  creating build/bdist.linux-x86_64/wheel/apex\n",
            "  creating build/bdist.linux-x86_64/wheel/apex/mlp\n",
            "  copying build/lib/apex/mlp/mlp.py -> build/bdist.linux-x86_64/wheel/apex/mlp\n",
            "  copying build/lib/apex/mlp/__init__.py -> build/bdist.linux-x86_64/wheel/apex/mlp\n",
            "  copying build/lib/apex/__init__.py -> build/bdist.linux-x86_64/wheel/apex\n",
            "  creating build/bdist.linux-x86_64/wheel/apex/parallel\n",
            "  copying build/lib/apex/parallel/__init__.py -> build/bdist.linux-x86_64/wheel/apex/parallel\n",
            "  copying build/lib/apex/parallel/sync_batchnorm_kernel.py -> build/bdist.linux-x86_64/wheel/apex/parallel\n",
            "  copying build/lib/apex/parallel/optimized_sync_batchnorm_kernel.py -> build/bdist.linux-x86_64/wheel/apex/parallel\n",
            "  copying build/lib/apex/parallel/multiproc.py -> build/bdist.linux-x86_64/wheel/apex/parallel\n",
            "  copying build/lib/apex/parallel/distributed.py -> build/bdist.linux-x86_64/wheel/apex/parallel\n",
            "  copying build/lib/apex/parallel/optimized_sync_batchnorm.py -> build/bdist.linux-x86_64/wheel/apex/parallel\n",
            "  copying build/lib/apex/parallel/sync_batchnorm.py -> build/bdist.linux-x86_64/wheel/apex/parallel\n",
            "  copying build/lib/apex/parallel/LARC.py -> build/bdist.linux-x86_64/wheel/apex/parallel\n",
            "  creating build/bdist.linux-x86_64/wheel/apex/RNN\n",
            "  copying build/lib/apex/RNN/cells.py -> build/bdist.linux-x86_64/wheel/apex/RNN\n",
            "  copying build/lib/apex/RNN/__init__.py -> build/bdist.linux-x86_64/wheel/apex/RNN\n",
            "  copying build/lib/apex/RNN/RNNBackend.py -> build/bdist.linux-x86_64/wheel/apex/RNN\n",
            "  copying build/lib/apex/RNN/models.py -> build/bdist.linux-x86_64/wheel/apex/RNN\n",
            "  creating build/bdist.linux-x86_64/wheel/apex/normalization\n",
            "  copying build/lib/apex/normalization/__init__.py -> build/bdist.linux-x86_64/wheel/apex/normalization\n",
            "  copying build/lib/apex/normalization/fused_layer_norm.py -> build/bdist.linux-x86_64/wheel/apex/normalization\n",
            "  creating build/bdist.linux-x86_64/wheel/apex/reparameterization\n",
            "  copying build/lib/apex/reparameterization/__init__.py -> build/bdist.linux-x86_64/wheel/apex/reparameterization\n",
            "  copying build/lib/apex/reparameterization/weight_norm.py -> build/bdist.linux-x86_64/wheel/apex/reparameterization\n",
            "  copying build/lib/apex/reparameterization/reparameterization.py -> build/bdist.linux-x86_64/wheel/apex/reparameterization\n",
            "  creating build/bdist.linux-x86_64/wheel/apex/multi_tensor_apply\n",
            "  copying build/lib/apex/multi_tensor_apply/__init__.py -> build/bdist.linux-x86_64/wheel/apex/multi_tensor_apply\n",
            "  copying build/lib/apex/multi_tensor_apply/multi_tensor_apply.py -> build/bdist.linux-x86_64/wheel/apex/multi_tensor_apply\n",
            "  creating build/bdist.linux-x86_64/wheel/apex/pyprof\n",
            "  copying build/lib/apex/pyprof/__init__.py -> build/bdist.linux-x86_64/wheel/apex/pyprof\n",
            "  creating build/bdist.linux-x86_64/wheel/apex/pyprof/parse\n",
            "  copying build/lib/apex/pyprof/parse/__init__.py -> build/bdist.linux-x86_64/wheel/apex/pyprof/parse\n",
            "  copying build/lib/apex/pyprof/parse/parse.py -> build/bdist.linux-x86_64/wheel/apex/pyprof/parse\n",
            "  copying build/lib/apex/pyprof/parse/nvvp.py -> build/bdist.linux-x86_64/wheel/apex/pyprof/parse\n",
            "  copying build/lib/apex/pyprof/parse/__main__.py -> build/bdist.linux-x86_64/wheel/apex/pyprof/parse\n",
            "  copying build/lib/apex/pyprof/parse/kernel.py -> build/bdist.linux-x86_64/wheel/apex/pyprof/parse\n",
            "  copying build/lib/apex/pyprof/parse/db.py -> build/bdist.linux-x86_64/wheel/apex/pyprof/parse\n",
            "  creating build/bdist.linux-x86_64/wheel/apex/pyprof/prof\n",
            "  copying build/lib/apex/pyprof/prof/prof.py -> build/bdist.linux-x86_64/wheel/apex/pyprof/prof\n",
            "  copying build/lib/apex/pyprof/prof/convert.py -> build/bdist.linux-x86_64/wheel/apex/pyprof/prof\n",
            "  copying build/lib/apex/pyprof/prof/__init__.py -> build/bdist.linux-x86_64/wheel/apex/pyprof/prof\n",
            "  copying build/lib/apex/pyprof/prof/misc.py -> build/bdist.linux-x86_64/wheel/apex/pyprof/prof\n",
            "  copying build/lib/apex/pyprof/prof/base.py -> build/bdist.linux-x86_64/wheel/apex/pyprof/prof\n",
            "  copying build/lib/apex/pyprof/prof/embedding.py -> build/bdist.linux-x86_64/wheel/apex/pyprof/prof\n",
            "  copying build/lib/apex/pyprof/prof/softmax.py -> build/bdist.linux-x86_64/wheel/apex/pyprof/prof\n",
            "  copying build/lib/apex/pyprof/prof/linear.py -> build/bdist.linux-x86_64/wheel/apex/pyprof/prof\n",
            "  copying build/lib/apex/pyprof/prof/dropout.py -> build/bdist.linux-x86_64/wheel/apex/pyprof/prof\n",
            "  copying build/lib/apex/pyprof/prof/recurrentCell.py -> build/bdist.linux-x86_64/wheel/apex/pyprof/prof\n",
            "  copying build/lib/apex/pyprof/prof/conv.py -> build/bdist.linux-x86_64/wheel/apex/pyprof/prof\n",
            "  copying build/lib/apex/pyprof/prof/output.py -> build/bdist.linux-x86_64/wheel/apex/pyprof/prof\n",
            "  copying build/lib/apex/pyprof/prof/pooling.py -> build/bdist.linux-x86_64/wheel/apex/pyprof/prof\n",
            "  copying build/lib/apex/pyprof/prof/loss.py -> build/bdist.linux-x86_64/wheel/apex/pyprof/prof\n",
            "  copying build/lib/apex/pyprof/prof/blas.py -> build/bdist.linux-x86_64/wheel/apex/pyprof/prof\n",
            "  copying build/lib/apex/pyprof/prof/reduction.py -> build/bdist.linux-x86_64/wheel/apex/pyprof/prof\n",
            "  copying build/lib/apex/pyprof/prof/index_slice_join_mutate.py -> build/bdist.linux-x86_64/wheel/apex/pyprof/prof\n",
            "  copying build/lib/apex/pyprof/prof/__main__.py -> build/bdist.linux-x86_64/wheel/apex/pyprof/prof\n",
            "  copying build/lib/apex/pyprof/prof/data.py -> build/bdist.linux-x86_64/wheel/apex/pyprof/prof\n",
            "  copying build/lib/apex/pyprof/prof/activation.py -> build/bdist.linux-x86_64/wheel/apex/pyprof/prof\n",
            "  copying build/lib/apex/pyprof/prof/optim.py -> build/bdist.linux-x86_64/wheel/apex/pyprof/prof\n",
            "  copying build/lib/apex/pyprof/prof/utility.py -> build/bdist.linux-x86_64/wheel/apex/pyprof/prof\n",
            "  copying build/lib/apex/pyprof/prof/randomSample.py -> build/bdist.linux-x86_64/wheel/apex/pyprof/prof\n",
            "  copying build/lib/apex/pyprof/prof/normalization.py -> build/bdist.linux-x86_64/wheel/apex/pyprof/prof\n",
            "  copying build/lib/apex/pyprof/prof/pointwise.py -> build/bdist.linux-x86_64/wheel/apex/pyprof/prof\n",
            "  copying build/lib/apex/pyprof/prof/usage.py -> build/bdist.linux-x86_64/wheel/apex/pyprof/prof\n",
            "  creating build/bdist.linux-x86_64/wheel/apex/pyprof/nvtx\n",
            "  copying build/lib/apex/pyprof/nvtx/__init__.py -> build/bdist.linux-x86_64/wheel/apex/pyprof/nvtx\n",
            "  copying build/lib/apex/pyprof/nvtx/nvmarker.py -> build/bdist.linux-x86_64/wheel/apex/pyprof/nvtx\n",
            "  creating build/bdist.linux-x86_64/wheel/apex/contrib\n",
            "  copying build/lib/apex/contrib/__init__.py -> build/bdist.linux-x86_64/wheel/apex/contrib\n",
            "  creating build/bdist.linux-x86_64/wheel/apex/contrib/groupbn\n",
            "  copying build/lib/apex/contrib/groupbn/__init__.py -> build/bdist.linux-x86_64/wheel/apex/contrib/groupbn\n",
            "  copying build/lib/apex/contrib/groupbn/batch_norm.py -> build/bdist.linux-x86_64/wheel/apex/contrib/groupbn\n",
            "  creating build/bdist.linux-x86_64/wheel/apex/contrib/xentropy\n",
            "  copying build/lib/apex/contrib/xentropy/__init__.py -> build/bdist.linux-x86_64/wheel/apex/contrib/xentropy\n",
            "  copying build/lib/apex/contrib/xentropy/softmax_xentropy.py -> build/bdist.linux-x86_64/wheel/apex/contrib/xentropy\n",
            "  creating build/bdist.linux-x86_64/wheel/apex/contrib/multihead_attn\n",
            "  copying build/lib/apex/contrib/multihead_attn/fast_self_multihead_attn_norm_add_func.py -> build/bdist.linux-x86_64/wheel/apex/contrib/multihead_attn\n",
            "  copying build/lib/apex/contrib/multihead_attn/__init__.py -> build/bdist.linux-x86_64/wheel/apex/contrib/multihead_attn\n",
            "  copying build/lib/apex/contrib/multihead_attn/fast_encdec_multihead_attn_norm_add_func.py -> build/bdist.linux-x86_64/wheel/apex/contrib/multihead_attn\n",
            "  copying build/lib/apex/contrib/multihead_attn/encdec_multihead_attn_func.py -> build/bdist.linux-x86_64/wheel/apex/contrib/multihead_attn\n",
            "  copying build/lib/apex/contrib/multihead_attn/fast_encdec_multihead_attn_func.py -> build/bdist.linux-x86_64/wheel/apex/contrib/multihead_attn\n",
            "  copying build/lib/apex/contrib/multihead_attn/fast_self_multihead_attn_func.py -> build/bdist.linux-x86_64/wheel/apex/contrib/multihead_attn\n",
            "  copying build/lib/apex/contrib/multihead_attn/encdec_multihead_attn.py -> build/bdist.linux-x86_64/wheel/apex/contrib/multihead_attn\n",
            "  copying build/lib/apex/contrib/multihead_attn/mask_softmax_dropout_func.py -> build/bdist.linux-x86_64/wheel/apex/contrib/multihead_attn\n",
            "  copying build/lib/apex/contrib/multihead_attn/self_multihead_attn_func.py -> build/bdist.linux-x86_64/wheel/apex/contrib/multihead_attn\n",
            "  copying build/lib/apex/contrib/multihead_attn/self_multihead_attn.py -> build/bdist.linux-x86_64/wheel/apex/contrib/multihead_attn\n",
            "  creating build/bdist.linux-x86_64/wheel/apex/contrib/sparsity\n",
            "  copying build/lib/apex/contrib/sparsity/__init__.py -> build/bdist.linux-x86_64/wheel/apex/contrib/sparsity\n",
            "  copying build/lib/apex/contrib/sparsity/sparse_masklib.py -> build/bdist.linux-x86_64/wheel/apex/contrib/sparsity\n",
            "  copying build/lib/apex/contrib/sparsity/asp.py -> build/bdist.linux-x86_64/wheel/apex/contrib/sparsity\n",
            "  creating build/bdist.linux-x86_64/wheel/apex/contrib/optimizers\n",
            "  copying build/lib/apex/contrib/optimizers/__init__.py -> build/bdist.linux-x86_64/wheel/apex/contrib/optimizers\n",
            "  copying build/lib/apex/contrib/optimizers/distributed_fused_adam.py -> build/bdist.linux-x86_64/wheel/apex/contrib/optimizers\n",
            "  copying build/lib/apex/contrib/optimizers/distributed_fused_lamb.py -> build/bdist.linux-x86_64/wheel/apex/contrib/optimizers\n",
            "  copying build/lib/apex/contrib/optimizers/fused_lamb.py -> build/bdist.linux-x86_64/wheel/apex/contrib/optimizers\n",
            "  copying build/lib/apex/contrib/optimizers/fp16_optimizer.py -> build/bdist.linux-x86_64/wheel/apex/contrib/optimizers\n",
            "  copying build/lib/apex/contrib/optimizers/fused_adam.py -> build/bdist.linux-x86_64/wheel/apex/contrib/optimizers\n",
            "  copying build/lib/apex/contrib/optimizers/distributed_fused_adam_v3.py -> build/bdist.linux-x86_64/wheel/apex/contrib/optimizers\n",
            "  copying build/lib/apex/contrib/optimizers/fused_sgd.py -> build/bdist.linux-x86_64/wheel/apex/contrib/optimizers\n",
            "  copying build/lib/apex/contrib/optimizers/distributed_fused_adam_v2.py -> build/bdist.linux-x86_64/wheel/apex/contrib/optimizers\n",
            "  creating build/bdist.linux-x86_64/wheel/apex/fp16_utils\n",
            "  copying build/lib/apex/fp16_utils/__init__.py -> build/bdist.linux-x86_64/wheel/apex/fp16_utils\n",
            "  copying build/lib/apex/fp16_utils/fp16util.py -> build/bdist.linux-x86_64/wheel/apex/fp16_utils\n",
            "  copying build/lib/apex/fp16_utils/fp16_optimizer.py -> build/bdist.linux-x86_64/wheel/apex/fp16_utils\n",
            "  copying build/lib/apex/fp16_utils/loss_scaler.py -> build/bdist.linux-x86_64/wheel/apex/fp16_utils\n",
            "  creating build/bdist.linux-x86_64/wheel/apex/optimizers\n",
            "  copying build/lib/apex/optimizers/__init__.py -> build/bdist.linux-x86_64/wheel/apex/optimizers\n",
            "  copying build/lib/apex/optimizers/fused_adagrad.py -> build/bdist.linux-x86_64/wheel/apex/optimizers\n",
            "  copying build/lib/apex/optimizers/fused_lamb.py -> build/bdist.linux-x86_64/wheel/apex/optimizers\n",
            "  copying build/lib/apex/optimizers/fused_adam.py -> build/bdist.linux-x86_64/wheel/apex/optimizers\n",
            "  copying build/lib/apex/optimizers/fused_sgd.py -> build/bdist.linux-x86_64/wheel/apex/optimizers\n",
            "  copying build/lib/apex/optimizers/fused_novograd.py -> build/bdist.linux-x86_64/wheel/apex/optimizers\n",
            "  creating build/bdist.linux-x86_64/wheel/apex/amp\n",
            "  copying build/lib/apex/amp/__init__.py -> build/bdist.linux-x86_64/wheel/apex/amp\n",
            "  copying build/lib/apex/amp/_initialize.py -> build/bdist.linux-x86_64/wheel/apex/amp\n",
            "  copying build/lib/apex/amp/rnn_compat.py -> build/bdist.linux-x86_64/wheel/apex/amp\n",
            "  copying build/lib/apex/amp/utils.py -> build/bdist.linux-x86_64/wheel/apex/amp\n",
            "  copying build/lib/apex/amp/opt.py -> build/bdist.linux-x86_64/wheel/apex/amp\n",
            "  creating build/bdist.linux-x86_64/wheel/apex/amp/lists\n",
            "  copying build/lib/apex/amp/lists/__init__.py -> build/bdist.linux-x86_64/wheel/apex/amp/lists\n",
            "  copying build/lib/apex/amp/lists/tensor_overrides.py -> build/bdist.linux-x86_64/wheel/apex/amp/lists\n",
            "  copying build/lib/apex/amp/lists/torch_overrides.py -> build/bdist.linux-x86_64/wheel/apex/amp/lists\n",
            "  copying build/lib/apex/amp/lists/functional_overrides.py -> build/bdist.linux-x86_64/wheel/apex/amp/lists\n",
            "  copying build/lib/apex/amp/handle.py -> build/bdist.linux-x86_64/wheel/apex/amp\n",
            "  copying build/lib/apex/amp/wrap.py -> build/bdist.linux-x86_64/wheel/apex/amp\n",
            "  copying build/lib/apex/amp/compat.py -> build/bdist.linux-x86_64/wheel/apex/amp\n",
            "  copying build/lib/apex/amp/amp.py -> build/bdist.linux-x86_64/wheel/apex/amp\n",
            "  copying build/lib/apex/amp/frontend.py -> build/bdist.linux-x86_64/wheel/apex/amp\n",
            "  copying build/lib/apex/amp/_amp_state.py -> build/bdist.linux-x86_64/wheel/apex/amp\n",
            "  copying build/lib/apex/amp/_process_optimizer.py -> build/bdist.linux-x86_64/wheel/apex/amp\n",
            "  copying build/lib/apex/amp/__version__.py -> build/bdist.linux-x86_64/wheel/apex/amp\n",
            "  copying build/lib/apex/amp/scaler.py -> build/bdist.linux-x86_64/wheel/apex/amp\n",
            "  running install_egg_info\n",
            "  running egg_info\n",
            "  creating apex.egg-info\n",
            "  writing apex.egg-info/PKG-INFO\n",
            "  writing dependency_links to apex.egg-info/dependency_links.txt\n",
            "  writing top-level names to apex.egg-info/top_level.txt\n",
            "  writing manifest file 'apex.egg-info/SOURCES.txt'\n",
            "  writing manifest file 'apex.egg-info/SOURCES.txt'\n",
            "  Copying apex.egg-info to build/bdist.linux-x86_64/wheel/apex-0.1-py3.6.egg-info\n",
            "  running install_scripts\n",
            "  adding license file \"LICENSE\" (matched pattern \"LICEN[CS]E*\")\n",
            "  creating build/bdist.linux-x86_64/wheel/apex-0.1.dist-info/WHEEL\n",
            "  creating '/tmp/pip-wheel-09xri0pl/apex-0.1-cp36-none-any.whl' and adding 'build/bdist.linux-x86_64/wheel' to it\n",
            "  adding 'apex/__init__.py'\n",
            "  adding 'apex/RNN/RNNBackend.py'\n",
            "  adding 'apex/RNN/__init__.py'\n",
            "  adding 'apex/RNN/cells.py'\n",
            "  adding 'apex/RNN/models.py'\n",
            "  adding 'apex/amp/__init__.py'\n",
            "  adding 'apex/amp/__version__.py'\n",
            "  adding 'apex/amp/_amp_state.py'\n",
            "  adding 'apex/amp/_initialize.py'\n",
            "  adding 'apex/amp/_process_optimizer.py'\n",
            "  adding 'apex/amp/amp.py'\n",
            "  adding 'apex/amp/compat.py'\n",
            "  adding 'apex/amp/frontend.py'\n",
            "  adding 'apex/amp/handle.py'\n",
            "  adding 'apex/amp/opt.py'\n",
            "  adding 'apex/amp/rnn_compat.py'\n",
            "  adding 'apex/amp/scaler.py'\n",
            "  adding 'apex/amp/utils.py'\n",
            "  adding 'apex/amp/wrap.py'\n",
            "  adding 'apex/amp/lists/__init__.py'\n",
            "  adding 'apex/amp/lists/functional_overrides.py'\n",
            "  adding 'apex/amp/lists/tensor_overrides.py'\n",
            "  adding 'apex/amp/lists/torch_overrides.py'\n",
            "  adding 'apex/contrib/__init__.py'\n",
            "  adding 'apex/contrib/groupbn/__init__.py'\n",
            "  adding 'apex/contrib/groupbn/batch_norm.py'\n",
            "  adding 'apex/contrib/multihead_attn/__init__.py'\n",
            "  adding 'apex/contrib/multihead_attn/encdec_multihead_attn.py'\n",
            "  adding 'apex/contrib/multihead_attn/encdec_multihead_attn_func.py'\n",
            "  adding 'apex/contrib/multihead_attn/fast_encdec_multihead_attn_func.py'\n",
            "  adding 'apex/contrib/multihead_attn/fast_encdec_multihead_attn_norm_add_func.py'\n",
            "  adding 'apex/contrib/multihead_attn/fast_self_multihead_attn_func.py'\n",
            "  adding 'apex/contrib/multihead_attn/fast_self_multihead_attn_norm_add_func.py'\n",
            "  adding 'apex/contrib/multihead_attn/mask_softmax_dropout_func.py'\n",
            "  adding 'apex/contrib/multihead_attn/self_multihead_attn.py'\n",
            "  adding 'apex/contrib/multihead_attn/self_multihead_attn_func.py'\n",
            "  adding 'apex/contrib/optimizers/__init__.py'\n",
            "  adding 'apex/contrib/optimizers/distributed_fused_adam.py'\n",
            "  adding 'apex/contrib/optimizers/distributed_fused_adam_v2.py'\n",
            "  adding 'apex/contrib/optimizers/distributed_fused_adam_v3.py'\n",
            "  adding 'apex/contrib/optimizers/distributed_fused_lamb.py'\n",
            "  adding 'apex/contrib/optimizers/fp16_optimizer.py'\n",
            "  adding 'apex/contrib/optimizers/fused_adam.py'\n",
            "  adding 'apex/contrib/optimizers/fused_lamb.py'\n",
            "  adding 'apex/contrib/optimizers/fused_sgd.py'\n",
            "  adding 'apex/contrib/sparsity/__init__.py'\n",
            "  adding 'apex/contrib/sparsity/asp.py'\n",
            "  adding 'apex/contrib/sparsity/sparse_masklib.py'\n",
            "  adding 'apex/contrib/xentropy/__init__.py'\n",
            "  adding 'apex/contrib/xentropy/softmax_xentropy.py'\n",
            "  adding 'apex/fp16_utils/__init__.py'\n",
            "  adding 'apex/fp16_utils/fp16_optimizer.py'\n",
            "  adding 'apex/fp16_utils/fp16util.py'\n",
            "  adding 'apex/fp16_utils/loss_scaler.py'\n",
            "  adding 'apex/mlp/__init__.py'\n",
            "  adding 'apex/mlp/mlp.py'\n",
            "  adding 'apex/multi_tensor_apply/__init__.py'\n",
            "  adding 'apex/multi_tensor_apply/multi_tensor_apply.py'\n",
            "  adding 'apex/normalization/__init__.py'\n",
            "  adding 'apex/normalization/fused_layer_norm.py'\n",
            "  adding 'apex/optimizers/__init__.py'\n",
            "  adding 'apex/optimizers/fused_adagrad.py'\n",
            "  adding 'apex/optimizers/fused_adam.py'\n",
            "  adding 'apex/optimizers/fused_lamb.py'\n",
            "  adding 'apex/optimizers/fused_novograd.py'\n",
            "  adding 'apex/optimizers/fused_sgd.py'\n",
            "  adding 'apex/parallel/LARC.py'\n",
            "  adding 'apex/parallel/__init__.py'\n",
            "  adding 'apex/parallel/distributed.py'\n",
            "  adding 'apex/parallel/multiproc.py'\n",
            "  adding 'apex/parallel/optimized_sync_batchnorm.py'\n",
            "  adding 'apex/parallel/optimized_sync_batchnorm_kernel.py'\n",
            "  adding 'apex/parallel/sync_batchnorm.py'\n",
            "  adding 'apex/parallel/sync_batchnorm_kernel.py'\n",
            "  adding 'apex/pyprof/__init__.py'\n",
            "  adding 'apex/pyprof/nvtx/__init__.py'\n",
            "  adding 'apex/pyprof/nvtx/nvmarker.py'\n",
            "  adding 'apex/pyprof/parse/__init__.py'\n",
            "  adding 'apex/pyprof/parse/__main__.py'\n",
            "  adding 'apex/pyprof/parse/db.py'\n",
            "  adding 'apex/pyprof/parse/kernel.py'\n",
            "  adding 'apex/pyprof/parse/nvvp.py'\n",
            "  adding 'apex/pyprof/parse/parse.py'\n",
            "  adding 'apex/pyprof/prof/__init__.py'\n",
            "  adding 'apex/pyprof/prof/__main__.py'\n",
            "  adding 'apex/pyprof/prof/activation.py'\n",
            "  adding 'apex/pyprof/prof/base.py'\n",
            "  adding 'apex/pyprof/prof/blas.py'\n",
            "  adding 'apex/pyprof/prof/conv.py'\n",
            "  adding 'apex/pyprof/prof/convert.py'\n",
            "  adding 'apex/pyprof/prof/data.py'\n",
            "  adding 'apex/pyprof/prof/dropout.py'\n",
            "  adding 'apex/pyprof/prof/embedding.py'\n",
            "  adding 'apex/pyprof/prof/index_slice_join_mutate.py'\n",
            "  adding 'apex/pyprof/prof/linear.py'\n",
            "  adding 'apex/pyprof/prof/loss.py'\n",
            "  adding 'apex/pyprof/prof/misc.py'\n",
            "  adding 'apex/pyprof/prof/normalization.py'\n",
            "  adding 'apex/pyprof/prof/optim.py'\n",
            "  adding 'apex/pyprof/prof/output.py'\n",
            "  adding 'apex/pyprof/prof/pointwise.py'\n",
            "  adding 'apex/pyprof/prof/pooling.py'\n",
            "  adding 'apex/pyprof/prof/prof.py'\n",
            "  adding 'apex/pyprof/prof/randomSample.py'\n",
            "  adding 'apex/pyprof/prof/recurrentCell.py'\n",
            "  adding 'apex/pyprof/prof/reduction.py'\n",
            "  adding 'apex/pyprof/prof/softmax.py'\n",
            "  adding 'apex/pyprof/prof/usage.py'\n",
            "  adding 'apex/pyprof/prof/utility.py'\n",
            "  adding 'apex/reparameterization/__init__.py'\n",
            "  adding 'apex/reparameterization/reparameterization.py'\n",
            "  adding 'apex/reparameterization/weight_norm.py'\n",
            "  adding 'apex-0.1.dist-info/LICENSE'\n",
            "  adding 'apex-0.1.dist-info/METADATA'\n",
            "  adding 'apex-0.1.dist-info/WHEEL'\n",
            "  adding 'apex-0.1.dist-info/top_level.txt'\n",
            "  adding 'apex-0.1.dist-info/RECORD'\n",
            "  removing build/bdist.linux-x86_64/wheel\n",
            "\u001b[?25hdone\n",
            "  Created wheel for apex: filename=apex-0.1-cp36-none-any.whl size=192848 sha256=c44438aaf50f23a296a6438ce2c664ec441f6dcf079cc2a24ccbd608dce1c39b\n",
            "  Stored in directory: /tmp/pip-ephem-wheel-cache-blaos7j8/wheels/b1/3a/aa/d84906eaab780ae580c7a5686a33bf2820d8590ac3b60d5967\n",
            "  Removing source in /tmp/pip-req-build-m6w8u4gp\n",
            "Successfully built apex\n",
            "Installing collected packages: apex\n",
            "\n",
            "Successfully installed apex-0.1\n",
            "Cleaning up...\n",
            "Removed build tracker '/tmp/pip-req-tracker-2751nuu0'\n"
          ],
          "name": "stdout"
        }
      ]
    },
    {
      "cell_type": "code",
      "metadata": {
        "id": "51HseIujmv2L",
        "colab_type": "code",
        "colab": {}
      },
      "source": [
        "os.chdir(\"..\")"
      ],
      "execution_count": 10,
      "outputs": []
    },
    {
      "cell_type": "code",
      "metadata": {
        "id": "2BjLm6limxt4",
        "colab_type": "code",
        "colab": {
          "base_uri": "https://localhost:8080/",
          "height": 0
        },
        "outputId": "367c07e9-289b-409f-ca27-06360d5d04b0"
      },
      "source": [
        "!git clone https://github.com/facebookresearch/TransCoder.git"
      ],
      "execution_count": 11,
      "outputs": [
        {
          "output_type": "stream",
          "text": [
            "Cloning into 'TransCoder'...\n",
            "remote: Enumerating objects: 2203, done.\u001b[K\n",
            "remote: Counting objects:   0% (1/2203)\u001b[K\rremote: Counting objects:   1% (23/2203)\u001b[K\rremote: Counting objects:   2% (45/2203)\u001b[K\rremote: Counting objects:   3% (67/2203)\u001b[K\rremote: Counting objects:   4% (89/2203)\u001b[K\rremote: Counting objects:   5% (111/2203)\u001b[K\rremote: Counting objects:   6% (133/2203)\u001b[K\rremote: Counting objects:   7% (155/2203)\u001b[K\rremote: Counting objects:   8% (177/2203)\u001b[K\rremote: Counting objects:   9% (199/2203)\u001b[K\rremote: Counting objects:  10% (221/2203)\u001b[K\rremote: Counting objects:  11% (243/2203)\u001b[K\rremote: Counting objects:  12% (265/2203)\u001b[K\rremote: Counting objects:  13% (287/2203)\u001b[K\rremote: Counting objects:  14% (309/2203)\u001b[K\rremote: Counting objects:  15% (331/2203)\u001b[K\rremote: Counting objects:  16% (353/2203)\u001b[K\rremote: Counting objects:  17% (375/2203)\u001b[K\rremote: Counting objects:  18% (397/2203)\u001b[K\rremote: Counting objects:  19% (419/2203)\u001b[K\rremote: Counting objects:  20% (441/2203)\u001b[K\rremote: Counting objects:  21% (463/2203)\u001b[K\rremote: Counting objects:  22% (485/2203)\u001b[K\rremote: Counting objects:  23% (507/2203)\u001b[K\rremote: Counting objects:  24% (529/2203)\u001b[K\rremote: Counting objects:  25% (551/2203)\u001b[K\rremote: Counting objects:  26% (573/2203)\u001b[K\rremote: Counting objects:  27% (595/2203)\u001b[K\rremote: Counting objects:  28% (617/2203)\u001b[K\rremote: Counting objects:  29% (639/2203)\u001b[K\rremote: Counting objects:  30% (661/2203)\u001b[K\rremote: Counting objects:  31% (683/2203)\u001b[K\rremote: Counting objects:  32% (705/2203)\u001b[K\rremote: Counting objects:  33% (727/2203)\u001b[K\rremote: Counting objects:  34% (750/2203)\u001b[K\rremote: Counting objects:  35% (772/2203)\u001b[K\rremote: Counting objects:  36% (794/2203)\u001b[K\rremote: Counting objects:  37% (816/2203)\u001b[K\rremote: Counting objects:  38% (838/2203)\u001b[K\rremote: Counting objects:  39% (860/2203)\u001b[K\rremote: Counting objects:  40% (882/2203)\u001b[K\rremote: Counting objects:  41% (904/2203)\u001b[K\rremote: Counting objects:  42% (926/2203)\u001b[K\rremote: Counting objects:  43% (948/2203)\u001b[K\rremote: Counting objects:  44% (970/2203)\u001b[K\rremote: Counting objects:  45% (992/2203)\u001b[K\rremote: Counting objects:  46% (1014/2203)\u001b[K\rremote: Counting objects:  47% (1036/2203)\u001b[K\rremote: Counting objects:  48% (1058/2203)\u001b[K\rremote: Counting objects:  49% (1080/2203)\u001b[K\rremote: Counting objects:  50% (1102/2203)\u001b[K\rremote: Counting objects:  51% (1124/2203)\u001b[K\rremote: Counting objects:  52% (1146/2203)\u001b[K\rremote: Counting objects:  53% (1168/2203)\u001b[K\rremote: Counting objects:  54% (1190/2203)\u001b[K\rremote: Counting objects:  55% (1212/2203)\u001b[K\rremote: Counting objects:  56% (1234/2203)\u001b[K\rremote: Counting objects:  57% (1256/2203)\u001b[K\rremote: Counting objects:  58% (1278/2203)\u001b[K\rremote: Counting objects:  59% (1300/2203)\u001b[K\rremote: Counting objects:  60% (1322/2203)\u001b[K\rremote: Counting objects:  61% (1344/2203)\u001b[K\rremote: Counting objects:  62% (1366/2203)\u001b[K\rremote: Counting objects:  63% (1388/2203)\u001b[K\rremote: Counting objects:  64% (1410/2203)\u001b[K\rremote: Counting objects:  65% (1432/2203)\u001b[K\rremote: Counting objects:  66% (1454/2203)\u001b[K\rremote: Counting objects:  67% (1477/2203)\u001b[K\rremote: Counting objects:  68% (1499/2203)\u001b[K\rremote: Counting objects:  69% (1521/2203)\u001b[K\rremote: Counting objects:  70% (1543/2203)\u001b[K\rremote: Counting objects:  71% (1565/2203)\u001b[K\rremote: Counting objects:  72% (1587/2203)\u001b[K\rremote: Counting objects:  73% (1609/2203)\u001b[K\rremote: Counting objects:  74% (1631/2203)\u001b[K\rremote: Counting objects:  75% (1653/2203)\u001b[K\rremote: Counting objects:  76% (1675/2203)\u001b[K\rremote: Counting objects:  77% (1697/2203)\u001b[K\rremote: Counting objects:  78% (1719/2203)\u001b[K\rremote: Counting objects:  79% (1741/2203)\u001b[K\rremote: Counting objects:  80% (1763/2203)\u001b[K\rremote: Counting objects:  81% (1785/2203)\u001b[K\rremote: Counting objects:  82% (1807/2203)\u001b[K\rremote: Counting objects:  83% (1829/2203)\u001b[K\rremote: Counting objects:  84% (1851/2203)\u001b[K\rremote: Counting objects:  85% (1873/2203)\u001b[K\rremote: Counting objects:  86% (1895/2203)\u001b[K\rremote: Counting objects:  87% (1917/2203)\u001b[K\rremote: Counting objects:  88% (1939/2203)\u001b[K\rremote: Counting objects:  89% (1961/2203)\u001b[K\rremote: Counting objects:  90% (1983/2203)\u001b[K\rremote: Counting objects:  91% (2005/2203)\u001b[K\rremote: Counting objects:  92% (2027/2203)\u001b[K\rremote: Counting objects:  93% (2049/2203)\u001b[K\rremote: Counting objects:  94% (2071/2203)\u001b[K\rremote: Counting objects:  95% (2093/2203)\u001b[K\rremote: Counting objects:  96% (2115/2203)\u001b[K\rremote: Counting objects:  97% (2137/2203)\u001b[K\rremote: Counting objects:  98% (2159/2203)\u001b[K\rremote: Counting objects:  99% (2181/2203)\u001b[K\rremote: Counting objects: 100% (2203/2203)\u001b[K\rremote: Counting objects: 100% (2203/2203), done.\u001b[K\n",
            "remote: Compressing objects:   0% (1/1114)\u001b[K\rremote: Compressing objects:   1% (12/1114)\u001b[K\rremote: Compressing objects:   2% (23/1114)\u001b[K\rremote: Compressing objects:   3% (34/1114)\u001b[K\rremote: Compressing objects:   4% (45/1114)\u001b[K\rremote: Compressing objects:   5% (56/1114)\u001b[K\rremote: Compressing objects:   6% (67/1114)\u001b[K\rremote: Compressing objects:   7% (78/1114)\u001b[K\rremote: Compressing objects:   8% (90/1114)\u001b[K\rremote: Compressing objects:   9% (101/1114)\u001b[K\rremote: Compressing objects:  10% (112/1114)\u001b[K\rremote: Compressing objects:  11% (123/1114)\u001b[K\rremote: Compressing objects:  12% (134/1114)\u001b[K\rremote: Compressing objects:  13% (145/1114)\u001b[K\rremote: Compressing objects:  14% (156/1114)\u001b[K\rremote: Compressing objects:  15% (168/1114)\u001b[K\rremote: Compressing objects:  16% (179/1114)\u001b[K\rremote: Compressing objects:  17% (190/1114)\u001b[K\rremote: Compressing objects:  18% (201/1114)\u001b[K\rremote: Compressing objects:  19% (212/1114)\u001b[K\rremote: Compressing objects:  20% (223/1114)\u001b[K\rremote: Compressing objects:  21% (234/1114)\u001b[K\rremote: Compressing objects:  22% (246/1114)\u001b[K\rremote: Compressing objects:  23% (257/1114)\u001b[K\rremote: Compressing objects:  24% (268/1114)\u001b[K\rremote: Compressing objects:  25% (279/1114)\u001b[K\rremote: Compressing objects:  26% (290/1114)\u001b[K\rremote: Compressing objects:  27% (301/1114)\u001b[K\rremote: Compressing objects:  28% (312/1114)\u001b[K\rremote: Compressing objects:  29% (324/1114)\u001b[K\rremote: Compressing objects:  30% (335/1114)\u001b[K\rremote: Compressing objects:  31% (346/1114)\u001b[K\rremote: Compressing objects:  32% (357/1114)\u001b[K\rremote: Compressing objects:  33% (368/1114)\u001b[K\rremote: Compressing objects:  34% (379/1114)\u001b[K\rremote: Compressing objects:  35% (390/1114)\u001b[K\rremote: Compressing objects:  36% (402/1114)\u001b[K\rremote: Compressing objects:  37% (413/1114)\u001b[K\rremote: Compressing objects:  38% (424/1114)\u001b[K\rremote: Compressing objects:  39% (435/1114)\u001b[K\rremote: Compressing objects:  40% (446/1114)\u001b[K\rremote: Compressing objects:  41% (457/1114)\u001b[K\rremote: Compressing objects:  42% (468/1114)\u001b[K\rremote: Compressing objects:  43% (480/1114)\u001b[K\rremote: Compressing objects:  44% (491/1114)\u001b[K\rremote: Compressing objects:  45% (502/1114)\u001b[K\rremote: Compressing objects:  46% (513/1114)\u001b[K\rremote: Compressing objects:  47% (524/1114)\u001b[K\rremote: Compressing objects:  48% (535/1114)\u001b[K\rremote: Compressing objects:  49% (546/1114)\u001b[K\rremote: Compressing objects:  50% (557/1114)\u001b[K\rremote: Compressing objects:  51% (569/1114)\u001b[K\rremote: Compressing objects:  52% (580/1114)\u001b[K\rremote: Compressing objects:  53% (591/1114)\u001b[K\rremote: Compressing objects:  54% (602/1114)\u001b[K\rremote: Compressing objects:  55% (613/1114)\u001b[K\rremote: Compressing objects:  56% (624/1114)\u001b[K\rremote: Compressing objects:  57% (635/1114)\u001b[K\rremote: Compressing objects:  58% (647/1114)\u001b[K\rremote: Compressing objects:  59% (658/1114)\u001b[K\rremote: Compressing objects:  60% (669/1114)\u001b[K\rremote: Compressing objects:  61% (680/1114)\u001b[K\rremote: Compressing objects:  62% (691/1114)\u001b[K\rremote: Compressing objects:  63% (702/1114)\u001b[K\rremote: Compressing objects:  64% (713/1114)\u001b[K\rremote: Compressing objects:  65% (725/1114)\u001b[K\rremote: Compressing objects:  66% (736/1114)\u001b[K\rremote: Compressing objects:  67% (747/1114)\u001b[K\rremote: Compressing objects:  68% (758/1114)\u001b[K\rremote: Compressing objects:  69% (769/1114)\u001b[K\rremote: Compressing objects:  70% (780/1114)\u001b[K\rremote: Compressing objects:  71% (791/1114)\u001b[K\rremote: Compressing objects:  72% (803/1114)\u001b[K\rremote: Compressing objects:  73% (814/1114)\u001b[K\rremote: Compressing objects:  74% (825/1114)\u001b[K\rremote: Compressing objects:  75% (836/1114)\u001b[K\rremote: Compressing objects:  76% (847/1114)\u001b[K\rremote: Compressing objects:  77% (858/1114)\u001b[K\rremote: Compressing objects:  78% (869/1114)\u001b[K\rremote: Compressing objects:  79% (881/1114)\u001b[K\rremote: Compressing objects:  80% (892/1114)\u001b[K\rremote: Compressing objects:  81% (903/1114)\u001b[K\rremote: Compressing objects:  82% (914/1114)\u001b[K\rremote: Compressing objects:  83% (925/1114)\u001b[K\rremote: Compressing objects:  84% (936/1114)\u001b[K\rremote: Compressing objects:  85% (947/1114)\u001b[K\rremote: Compressing objects:  86% (959/1114)\u001b[K\rremote: Compressing objects:  87% (970/1114)\u001b[K\rremote: Compressing objects:  88% (981/1114)\u001b[K\rremote: Compressing objects:  89% (992/1114)\u001b[K\rremote: Compressing objects:  90% (1003/1114)\u001b[K\rremote: Compressing objects:  91% (1014/1114)\u001b[K\rremote: Compressing objects:  92% (1025/1114)\u001b[K\rremote: Compressing objects:  93% (1037/1114)\u001b[K\rremote: Compressing objects:  94% (1048/1114)\u001b[K\rremote: Compressing objects:  95% (1059/1114)\u001b[K\rremote: Compressing objects:  96% (1070/1114)\u001b[K\rremote: Compressing objects:  97% (1081/1114)\u001b[K\rremote: Compressing objects:  98% (1092/1114)\u001b[K\rremote: Compressing objects:  99% (1103/1114)\u001b[K\rremote: Compressing objects: 100% (1114/1114)\u001b[K\rremote: Compressing objects: 100% (1114/1114), done.\u001b[K\n",
            "Receiving objects:   0% (1/2203)   \rReceiving objects:   1% (23/2203)   \rReceiving objects:   2% (45/2203)   \rReceiving objects:   3% (67/2203)   \rReceiving objects:   4% (89/2203)   \rReceiving objects:   5% (111/2203)   \rReceiving objects:   6% (133/2203)   \rReceiving objects:   7% (155/2203)   \rReceiving objects:   8% (177/2203)   \rReceiving objects:   9% (199/2203)   \rReceiving objects:  10% (221/2203)   \rReceiving objects:  11% (243/2203)   \rReceiving objects:  12% (265/2203)   \rReceiving objects:  13% (287/2203)   \rReceiving objects:  14% (309/2203)   \rReceiving objects:  15% (331/2203)   \rReceiving objects:  16% (353/2203)   \rReceiving objects:  17% (375/2203)   \rReceiving objects:  18% (397/2203)   \rReceiving objects:  19% (419/2203)   \rReceiving objects:  20% (441/2203)   \rReceiving objects:  21% (463/2203)   \rReceiving objects:  22% (485/2203)   \rReceiving objects:  23% (507/2203)   \rReceiving objects:  24% (529/2203)   \rReceiving objects:  25% (551/2203)   \rReceiving objects:  26% (573/2203)   \rReceiving objects:  27% (595/2203)   \rReceiving objects:  28% (617/2203)   \rReceiving objects:  29% (639/2203)   \rReceiving objects:  30% (661/2203)   \rReceiving objects:  31% (683/2203)   \rReceiving objects:  32% (705/2203)   \rReceiving objects:  33% (727/2203)   \rReceiving objects:  34% (750/2203)   \rReceiving objects:  35% (772/2203)   \rReceiving objects:  36% (794/2203)   \rReceiving objects:  37% (816/2203)   \rReceiving objects:  38% (838/2203)   \rReceiving objects:  39% (860/2203)   \rReceiving objects:  40% (882/2203)   \rReceiving objects:  41% (904/2203)   \rReceiving objects:  42% (926/2203)   \rReceiving objects:  43% (948/2203)   \rReceiving objects:  44% (970/2203)   \rReceiving objects:  45% (992/2203)   \rReceiving objects:  46% (1014/2203)   \rReceiving objects:  47% (1036/2203)   \rReceiving objects:  48% (1058/2203)   \rReceiving objects:  49% (1080/2203)   \rReceiving objects:  50% (1102/2203)   \rReceiving objects:  51% (1124/2203)   \rReceiving objects:  52% (1146/2203)   \rReceiving objects:  53% (1168/2203)   \rReceiving objects:  54% (1190/2203)   \rReceiving objects:  55% (1212/2203)   \rReceiving objects:  56% (1234/2203)   \rReceiving objects:  57% (1256/2203)   \rReceiving objects:  58% (1278/2203)   \rReceiving objects:  59% (1300/2203)   \rReceiving objects:  60% (1322/2203)   \rReceiving objects:  61% (1344/2203)   \rReceiving objects:  62% (1366/2203)   \rReceiving objects:  63% (1388/2203)   \rReceiving objects:  64% (1410/2203)   \rReceiving objects:  65% (1432/2203)   \rReceiving objects:  66% (1454/2203)   \rReceiving objects:  67% (1477/2203)   \rReceiving objects:  68% (1499/2203)   \rReceiving objects:  69% (1521/2203)   \rReceiving objects:  70% (1543/2203)   \rReceiving objects:  71% (1565/2203)   \rReceiving objects:  72% (1587/2203)   \rReceiving objects:  73% (1609/2203)   \rReceiving objects:  74% (1631/2203)   \rReceiving objects:  75% (1653/2203)   \rReceiving objects:  76% (1675/2203)   \rReceiving objects:  77% (1697/2203)   \rReceiving objects:  78% (1719/2203)   \rReceiving objects:  79% (1741/2203)   \rReceiving objects:  80% (1763/2203)   \rReceiving objects:  81% (1785/2203)   \rReceiving objects:  82% (1807/2203)   \rReceiving objects:  83% (1829/2203)   \rReceiving objects:  84% (1851/2203)   \rReceiving objects:  85% (1873/2203)   \rReceiving objects:  86% (1895/2203)   \rReceiving objects:  87% (1917/2203)   \rReceiving objects:  88% (1939/2203)   \rReceiving objects:  89% (1961/2203)   \rReceiving objects:  90% (1983/2203)   \rReceiving objects:  91% (2005/2203)   \rReceiving objects:  92% (2027/2203)   \rReceiving objects:  93% (2049/2203)   \rReceiving objects:  94% (2071/2203)   \rReceiving objects:  95% (2093/2203)   \rReceiving objects:  96% (2115/2203)   \rReceiving objects:  97% (2137/2203)   \rReceiving objects:  98% (2159/2203)   \rremote: Total 2203 (delta 1094), reused 2190 (delta 1086), pack-reused 0\u001b[K\n",
            "Receiving objects:  99% (2181/2203)   \rReceiving objects: 100% (2203/2203)   \rReceiving objects: 100% (2203/2203), 4.03 MiB | 13.40 MiB/s, done.\n",
            "Resolving deltas:   0% (0/1094)   \rResolving deltas:   3% (35/1094)   \rResolving deltas:   5% (65/1094)   \rResolving deltas:   8% (95/1094)   \rResolving deltas:   9% (99/1094)   \rResolving deltas:  10% (116/1094)   \rResolving deltas:  11% (131/1094)   \rResolving deltas:  12% (138/1094)   \rResolving deltas:  13% (148/1094)   \rResolving deltas:  14% (155/1094)   \rResolving deltas:  15% (168/1094)   \rResolving deltas:  17% (189/1094)   \rResolving deltas:  18% (205/1094)   \rResolving deltas:  19% (214/1094)   \rResolving deltas:  20% (220/1094)   \rResolving deltas:  21% (235/1094)   \rResolving deltas:  22% (245/1094)   \rResolving deltas:  24% (269/1094)   \rResolving deltas:  25% (275/1094)   \rResolving deltas:  26% (286/1094)   \rResolving deltas:  27% (300/1094)   \rResolving deltas:  28% (311/1094)   \rResolving deltas:  29% (323/1094)   \rResolving deltas:  30% (331/1094)   \rResolving deltas:  31% (346/1094)   \rResolving deltas:  32% (352/1094)   \rResolving deltas:  33% (362/1094)   \rResolving deltas:  34% (372/1094)   \rResolving deltas:  35% (384/1094)   \rResolving deltas:  36% (397/1094)   \rResolving deltas:  37% (413/1094)   \rResolving deltas:  38% (425/1094)   \rResolving deltas:  39% (428/1094)   \rResolving deltas:  40% (445/1094)   \rResolving deltas:  41% (450/1094)   \rResolving deltas:  42% (470/1094)   \rResolving deltas:  43% (474/1094)   \rResolving deltas:  44% (483/1094)   \rResolving deltas:  45% (499/1094)   \rResolving deltas:  46% (507/1094)   \rResolving deltas:  47% (518/1094)   \rResolving deltas:  48% (531/1094)   \rResolving deltas:  49% (537/1094)   \rResolving deltas:  50% (547/1094)   \rResolving deltas:  51% (558/1094)   \rResolving deltas:  52% (570/1094)   \rResolving deltas:  53% (585/1094)   \rResolving deltas:  54% (591/1094)   \rResolving deltas:  55% (606/1094)   \rResolving deltas:  56% (614/1094)   \rResolving deltas:  57% (624/1094)   \rResolving deltas:  58% (635/1094)   \rResolving deltas:  59% (650/1094)   \rResolving deltas:  60% (657/1094)   \rResolving deltas:  61% (676/1094)   \rResolving deltas:  62% (685/1094)   \rResolving deltas:  63% (695/1094)   \rResolving deltas:  64% (701/1094)   \rResolving deltas:  65% (712/1094)   \rResolving deltas:  67% (733/1094)   \rResolving deltas:  68% (745/1094)   \rResolving deltas:  69% (763/1094)   \rResolving deltas:  70% (771/1094)   \rResolving deltas:  71% (779/1094)   \rResolving deltas:  72% (790/1094)   \rResolving deltas:  73% (799/1094)   \rResolving deltas:  74% (810/1094)   \rResolving deltas:  75% (821/1094)   \rResolving deltas:  76% (835/1094)   \rResolving deltas:  77% (843/1094)   \rResolving deltas:  78% (855/1094)   \rResolving deltas:  79% (865/1094)   \rResolving deltas:  80% (880/1094)   \rResolving deltas:  81% (887/1094)   \rResolving deltas:  82% (900/1094)   \rResolving deltas:  83% (916/1094)   \rResolving deltas:  84% (919/1094)   \rResolving deltas:  85% (933/1094)   \rResolving deltas:  86% (943/1094)   \rResolving deltas:  87% (952/1094)   \rResolving deltas:  88% (963/1094)   \rResolving deltas:  89% (974/1094)   \rResolving deltas:  90% (985/1094)   \rResolving deltas:  91% (996/1094)   \rResolving deltas:  92% (1008/1094)   \rResolving deltas:  93% (1019/1094)   \rResolving deltas:  94% (1031/1094)   \rResolving deltas:  95% (1042/1094)   \rResolving deltas:  96% (1052/1094)   \rResolving deltas:  97% (1062/1094)   \rResolving deltas:  98% (1073/1094)   \rResolving deltas:  99% (1085/1094)   \rResolving deltas: 100% (1094/1094)   \rResolving deltas: 100% (1094/1094), done.\n"
          ],
          "name": "stdout"
        }
      ]
    },
    {
      "cell_type": "code",
      "metadata": {
        "id": "d94fimrxmzaW",
        "colab_type": "code",
        "colab": {
          "base_uri": "https://localhost:8080/",
          "height": 0
        },
        "outputId": "f8a359b9-d753-44a2-f4d8-b981783e8dc5"
      },
      "source": [
        "!wget https://dl.fbaipublicfiles.com/transcoder/model_2.pth"
      ],
      "execution_count": 12,
      "outputs": [
        {
          "output_type": "stream",
          "text": [
            "--2020-08-20 16:02:52--  https://dl.fbaipublicfiles.com/transcoder/model_2.pth\n",
            "Resolving dl.fbaipublicfiles.com (dl.fbaipublicfiles.com)... 104.22.75.142, 104.22.74.142, 172.67.9.4, ...\n",
            "Connecting to dl.fbaipublicfiles.com (dl.fbaipublicfiles.com)|104.22.75.142|:443... connected.\n",
            "HTTP request sent, awaiting response... 200 OK\n",
            "Length: 622089114 (593M) [application/octet-stream]\n",
            "Saving to: ‘model_2.pth’\n",
            "\n",
            "model_2.pth         100%[===================>] 593.27M  62.0MB/s    in 9.8s    \n",
            "\n",
            "2020-08-20 16:03:02 (60.3 MB/s) - ‘model_2.pth’ saved [622089114/622089114]\n",
            "\n"
          ],
          "name": "stdout"
        }
      ]
    },
    {
      "cell_type": "markdown",
      "metadata": {
        "id": "9WWL2uZenIWZ",
        "colab_type": "text"
      },
      "source": [
        "# Python -> Java"
      ]
    },
    {
      "cell_type": "code",
      "metadata": {
        "id": "1g7Bg4fKm5yd",
        "colab_type": "code",
        "colab": {
          "base_uri": "https://localhost:8080/",
          "height": 187
        },
        "outputId": "5ae6f0dd-13aa-4cb5-b848-d1bff1df26d2"
      },
      "source": [
        "!python TransCoder/translate.py --src_lang python --tgt_lang java \\\\\n",
        "--BPE_path TransCoder/data/BPE_with_comments_codes --model_path model_2.pth < fibo.py"
      ],
      "execution_count": 18,
      "outputs": [
        {
          "output_type": "stream",
          "text": [
            "Loading codes from /content/TransCoder/data/BPE_with_comments_codes ...\n",
            "Read 50000 codes from the codes file.\n",
            "====================\n",
            "public static int Fibo ( int n ) {\n",
            "  if ( n < 0 ) System . out . println ( \"Incorrect Input\" ) ;\n",
            "  else if ( n == 1 ) return 0 ;\n",
            "  else if ( n == 2 ) return 1 ;\n",
            "  else return Fibo ( n - 1 ) + Fibo ( n - 2 ) ;\n",
            "}\n",
            "\n"
          ],
          "name": "stdout"
        }
      ]
    }
  ]
}